{
  "nbformat": 4,
  "nbformat_minor": 0,
  "metadata": {
    "colab": {
      "provenance": []
    },
    "kernelspec": {
      "name": "python3",
      "display_name": "Python 3"
    },
    "language_info": {
      "name": "python"
    }
  },
  "cells": [
    {
      "cell_type": "code",
      "execution_count": 1,
      "metadata": {
        "id": "iuonOIa-fXTA"
      },
      "outputs": [],
      "source": [
        "# Python Basic Assignment\n",
        "# Theoretical Questions"
      ]
    },
    {
      "cell_type": "code",
      "source": [
        "\"\"\"\n",
        "1. What is python and why is it popular?\n",
        "  - Python is a high-level programming language and it was created by Guido Van Rossum in 1991. It is popular for its simple syntax and wide use in web, data science, and AI.\n",
        "\n",
        "2. what is an interpretor in python?\n",
        "  - It’s a program that runs Python code line-by-line.\n",
        "\n",
        "3. what are pre defined keywords in Python?\n",
        "  - They are reserved words like \"if, while, True\" that have special meaning and can't be used as variable names.\n",
        "\n",
        "4. What is mutability in python?\n",
        "  - Mutability means whether you can change an object after creating it.\n",
        "\n",
        "5. Why are lists mutable whereas tuples immutable?\n",
        "  - Lists can be changed after creation; tuples can't.\n",
        "\n",
        "6. What is the difference between \"==\" and \"is\" operators in Python?\n",
        "  - \"==\" is to assign a value, \"is\" checks memory location.\n",
        "\n",
        "7. What are logical operators in Python?\n",
        "  - They are \"and\", \"or\", and \"not\" — used in conditions.\n",
        "\n",
        "8. What is Typecasting in Python?\n",
        "  - Changing one data type to another, like int(\"5\").\n",
        "\n",
        "9. what is the difference between implicit and explicit type casting?\n",
        "  - Implicit: Python auto-converts types.\n",
        "    Explicit: You manually convert using functions like int().\n",
        "\n",
        "10. What is the purpose of conditional statements in Python?\n",
        "  - They let the program make decisions and run code based on conditions (like if, else).\n",
        "\n",
        "11. How does the elif statements work?\n",
        "  - It checks another condition if the previous if was False.\n",
        "\n",
        "12. What is the difference between for loop and while loops?\n",
        "  - for loop: Runs a set number of times.\n",
        "    while loop: Runs while a condition is True.\n",
        "\n",
        "13. Descrive a scenario where a while loop is more suitable than a for loop.\n",
        "  - When you don’t know how many times to loop — like waiting for user input to be correct.\n",
        "\n",
        "\n",
        "\n",
        "\"\"\""
      ],
      "metadata": {
        "colab": {
          "base_uri": "https://localhost:8080/",
          "height": 140
        },
        "id": "kwMnDFtdnEpy",
        "outputId": "93b84d8b-f02d-4c74-dfe4-3442256660da"
      },
      "execution_count": 5,
      "outputs": [
        {
          "output_type": "execute_result",
          "data": {
            "text/plain": [
              "'\\n1. What is python and why is it popular? \\n  - Python is a high-level programming language and it was created by Guido Van Rossum in 1991. It is popular for its simple syntax and wide use in web, data science, and AI.\\n\\n2. what is an interpretor in python?\\n  - It’s a program that runs Python code line-by-line.\\n\\n3. what are pre defined keywords in Python?\\n  - They are reserved words like \"if, while, True\" that have special meaning and can\\'t be used as variable names.\\n\\n4. What is mutability in python? \\n  - Mutability means whether you can change an object after creating it.\\n\\n5. Why are lists mutable whereas tuples immutable?\\n  - Lists can be changed after creation; tuples can\\'t.\\n\\n6. What is the difference between \"==\" and \"is\" operators in Python?\\n  - \"==\" is to assign a value, \"is\" checks memory location.\\n\\n7. What are logical operators in Python?\\n  - They are \"and\", \"or\", and \"not\" — used in conditions.\\n\\n8. What is Typecasting in Python? \\n  - Changing one data type to another, like int(\"5\").\\n\\n9. what is the difference between implicit and explicit type casting? \\n  - Implicit: Python auto-converts types.\\n    Explicit: You manually convert using functions like int().\\n\\n10. What is the purpose of conditional statements in Python?\\n  - They let the program make decisions and run code based on conditions (like if, else).\\n\\n11. How does the elif statements work?\\n  - It checks another condition if the previous if was False.\\n\\n12. What is the difference between for loop and while loops?\\n  - for loop: Runs a set number of times.\\n    while loop: Runs while a condition is True.\\n\\n13. Descrive a scenario where a while loop is more suitable than a for loop.\\n  - When you don’t know how many times to loop — like waiting for user input to be correct.     \\n\\n\\n\\n'"
            ],
            "application/vnd.google.colaboratory.intrinsic+json": {
              "type": "string"
            }
          },
          "metadata": {},
          "execution_count": 5
        }
      ]
    },
    {
      "cell_type": "code",
      "source": [
        "#Practical Questions\n"
      ],
      "metadata": {
        "id": "4lZaaG0WpmSf"
      },
      "execution_count": null,
      "outputs": []
    },
    {
      "cell_type": "code",
      "source": [
        "#1. Write a Python program to print \"Hello World!\"\n",
        "print(\"Hello World!\")"
      ],
      "metadata": {
        "colab": {
          "base_uri": "https://localhost:8080/"
        },
        "id": "hKPQ5IQFpuE0",
        "outputId": "7d2d51db-a853-4792-dc76-6079c5d5c928"
      },
      "execution_count": 7,
      "outputs": [
        {
          "output_type": "stream",
          "name": "stdout",
          "text": [
            "Hello World!\n"
          ]
        }
      ]
    },
    {
      "cell_type": "code",
      "source": [
        "#2. Write a Python program that displays your name and age.\n",
        "name = \"Sahil\"\n",
        "age = 18\n",
        "print(\"Name:\", name)\n",
        "print(\"Age:\", age)\n"
      ],
      "metadata": {
        "colab": {
          "base_uri": "https://localhost:8080/"
        },
        "id": "6xWr69rdqC1k",
        "outputId": "2aba26a2-45c3-4d60-fff2-add262c40a2e"
      },
      "execution_count": 9,
      "outputs": [
        {
          "output_type": "stream",
          "name": "stdout",
          "text": [
            "Name: Sahil\n",
            "Age: 18\n"
          ]
        }
      ]
    },
    {
      "cell_type": "code",
      "source": [
        "#3. Write code to print all the pre-defined keywords in Python using the keyword library.\n",
        "import keyword\n",
        "print(keyword.kwlist)\n",
        "\n",
        "\n"
      ],
      "metadata": {
        "colab": {
          "base_uri": "https://localhost:8080/"
        },
        "id": "my-4OaJ1qR8D",
        "outputId": "5d6dc54b-6742-42ce-830c-ac502d7d13d2"
      },
      "execution_count": 16,
      "outputs": [
        {
          "output_type": "stream",
          "name": "stdout",
          "text": [
            "['False', 'None', 'True', 'and', 'as', 'assert', 'async', 'await', 'break', 'class', 'continue', 'def', 'del', 'elif', 'else', 'except', 'finally', 'for', 'from', 'global', 'if', 'import', 'in', 'is', 'lambda', 'nonlocal', 'not', 'or', 'pass', 'raise', 'return', 'try', 'while', 'with', 'yield']\n"
          ]
        }
      ]
    },
    {
      "cell_type": "code",
      "source": [
        "#4. Write a program that checks if a given word is a Python keyword.\n",
        "import keyword\n",
        "word = input(\"Enter a word: \")\n",
        "print(keyword.iskeyword(word))\n"
      ],
      "metadata": {
        "colab": {
          "base_uri": "https://localhost:8080/"
        },
        "id": "je4T5mu8qiva",
        "outputId": "66a99882-83c2-46f5-de3d-6af0118a85c2"
      },
      "execution_count": 18,
      "outputs": [
        {
          "output_type": "stream",
          "name": "stdout",
          "text": [
            "Enter a word: truth\n",
            "False\n"
          ]
        }
      ]
    },
    {
      "cell_type": "code",
      "source": [
        "#5. Create a list and a tuple in Python, and demonstrate how they behave differently when you try to change an element in each.\n",
        "my_list = [1, 2, 3]\n",
        "my_tuple = (1, 2, 3)\n",
        "\n",
        "my_list[0] = 10\n",
        "print(\"List:\", my_list)\n",
        "\n",
        "# my_tuple[0] = 10  # This will give error if you run it\n",
        "print(\"Tuple:\", my_tuple)\n"
      ],
      "metadata": {
        "colab": {
          "base_uri": "https://localhost:8080/"
        },
        "id": "arh3EiZKq7QB",
        "outputId": "2eaee955-1fb2-43b6-9ed5-9f29b697d7aa"
      },
      "execution_count": 22,
      "outputs": [
        {
          "output_type": "stream",
          "name": "stdout",
          "text": [
            "List: [10, 2, 3]\n",
            "Tuple: (1, 2, 3)\n"
          ]
        }
      ]
    },
    {
      "cell_type": "code",
      "source": [
        "#6. Write a function to demonstrate the behaviour of mutable and immutable arguments.\n",
        "x = 5\n",
        "x += 1  # This will change the value of x to 6, but x itself can't be changed in-place like a list\n",
        "print(\"Value of x:\", x)\n",
        "\n",
        "y = [5,10]\n",
        "y[0] = 6  # This changes the first item of the list to 6\n",
        "print(\"Value of y:\", y)\n"
      ],
      "metadata": {
        "colab": {
          "base_uri": "https://localhost:8080/"
        },
        "id": "iVQaddJjrdUZ",
        "outputId": "92216724-ab4e-4f0e-e666-1dfde81c81d4"
      },
      "execution_count": 23,
      "outputs": [
        {
          "output_type": "stream",
          "name": "stdout",
          "text": [
            "Value of x: 6\n",
            "Value of y: [6, 10]\n"
          ]
        }
      ]
    },
    {
      "cell_type": "code",
      "source": [
        "#7. Write a program that performs basic arithmetic operations on two user-input numbers.\n",
        "a = int(input(\"Enter 1st number: \"))\n",
        "b = int(input(\"Enter 2nd number: \"))\n",
        "print(\"Sum:\", a + b)\n",
        "print(\"Difference:\", a - b)\n",
        "print(\"Product:\", a * b)\n",
        "print(\"Division:\", a / b)\n"
      ],
      "metadata": {
        "colab": {
          "base_uri": "https://localhost:8080/"
        },
        "id": "1s4StOW_t7MQ",
        "outputId": "c0d898c5-58c3-4d46-9f48-0d577852cdc2"
      },
      "execution_count": 24,
      "outputs": [
        {
          "output_type": "stream",
          "name": "stdout",
          "text": [
            "Enter 1st number: 69\n",
            "Enter 2nd number: 85\n",
            "Sum: 154\n",
            "Difference: -16\n",
            "Product: 5865\n",
            "Division: 0.8117647058823529\n"
          ]
        }
      ]
    },
    {
      "cell_type": "code",
      "source": [
        "#8. Write a program to demonstrate the use of logical operators.\n",
        "x = 10\n",
        "y = 5\n",
        "print(x > 5 and y < 10)\n",
        "print(x < 5 or y < 10)\n",
        "print(not(x == y))\n"
      ],
      "metadata": {
        "colab": {
          "base_uri": "https://localhost:8080/"
        },
        "id": "XLusTpayuM8z",
        "outputId": "af0801c5-e5fb-4de3-dfa2-576fd9252c76"
      },
      "execution_count": 25,
      "outputs": [
        {
          "output_type": "stream",
          "name": "stdout",
          "text": [
            "True\n",
            "True\n",
            "True\n"
          ]
        }
      ]
    },
    {
      "cell_type": "code",
      "source": [
        "#9. Write a Python program to convert user input from string to integer, float, and boolean types.\n",
        "value = input(\"Enter something: \")\n",
        "print(\"As int:\", int(value))\n",
        "print(\"As float:\", float(value))\n",
        "print(\"As bool:\", bool(value))\n"
      ],
      "metadata": {
        "colab": {
          "base_uri": "https://localhost:8080/"
        },
        "id": "9MszX_MhuXja",
        "outputId": "b8323448-55e6-4b19-809b-a34996e00068"
      },
      "execution_count": 28,
      "outputs": [
        {
          "output_type": "stream",
          "name": "stdout",
          "text": [
            "Enter something: 0\n",
            "As int: 0\n",
            "As float: 0.0\n",
            "As bool: True\n"
          ]
        }
      ]
    },
    {
      "cell_type": "code",
      "source": [
        "#10. Write code to demonstrate type casting with list elements.\n",
        "str_list = [\"1\", \"2\", \"3\"]\n",
        "num_list = int(str_list[0]), int(str_list[1]), int(str_list[2])\n",
        "print(num_list)\n"
      ],
      "metadata": {
        "colab": {
          "base_uri": "https://localhost:8080/"
        },
        "id": "Xv-zffI_uf67",
        "outputId": "8f92288e-9e19-4097-a5e0-e231ac2b73a1"
      },
      "execution_count": 31,
      "outputs": [
        {
          "output_type": "stream",
          "name": "stdout",
          "text": [
            "(1, 2, 3)\n"
          ]
        }
      ]
    },
    {
      "cell_type": "code",
      "source": [
        "#11. Write a program that checks if a number is positive, negative, or zero.\n",
        "n = int(input(\"Enter a number: \"))\n",
        "if n > 0:\n",
        "    print(\"Positive\")\n",
        "elif n < 0:\n",
        "    print(\"Negative\")\n",
        "else:\n",
        "    print(\"Zero\")\n"
      ],
      "metadata": {
        "colab": {
          "base_uri": "https://localhost:8080/"
        },
        "id": "5Eezxe9bu1ip",
        "outputId": "44d42f2d-abe1-4f94-a2b3-c1cadf4139e3"
      },
      "execution_count": 34,
      "outputs": [
        {
          "output_type": "stream",
          "name": "stdout",
          "text": [
            "Enter a number: 0\n",
            "Zero\n"
          ]
        }
      ]
    },
    {
      "cell_type": "code",
      "source": [
        "#12. Write a for loop to print numbers from 1 to 10.\n",
        "for i in range(1, 11):\n",
        "    print(i)\n",
        "\n"
      ],
      "metadata": {
        "colab": {
          "base_uri": "https://localhost:8080/"
        },
        "id": "pugwhKIqvWqE",
        "outputId": "35018953-4ab3-4c49-a81f-17ecf102f095"
      },
      "execution_count": 35,
      "outputs": [
        {
          "output_type": "stream",
          "name": "stdout",
          "text": [
            "1\n",
            "2\n",
            "3\n",
            "4\n",
            "5\n",
            "6\n",
            "7\n",
            "8\n",
            "9\n",
            "10\n"
          ]
        }
      ]
    },
    {
      "cell_type": "code",
      "source": [
        "#13. Write a Python program to find the sum of all even numbers between 1 and 50.\n",
        "total = 0\n",
        "for i in range(1, 51):\n",
        "    if i % 2 == 0:\n",
        "        total += i\n",
        "print(\"Sum of even numbers:\", total)\n"
      ],
      "metadata": {
        "colab": {
          "base_uri": "https://localhost:8080/"
        },
        "id": "-tnJs461vzeJ",
        "outputId": "10519dec-e2bf-4574-a9a5-9967d8d370e4"
      },
      "execution_count": 36,
      "outputs": [
        {
          "output_type": "stream",
          "name": "stdout",
          "text": [
            "Sum of even numbers: 650\n"
          ]
        }
      ]
    },
    {
      "cell_type": "code",
      "source": [
        "#14. Write a program to reverse a string using a while loop.\n",
        "s = input(\"Enter a string: \")\n",
        "i = len(s) - 1\n",
        "rev = \"\"\n",
        "while i >= 0:\n",
        "    rev += s[i]\n",
        "    i -= 1\n",
        "print(\"Reversed:\", rev)\n"
      ],
      "metadata": {
        "colab": {
          "base_uri": "https://localhost:8080/"
        },
        "id": "KE59pbpev7l3",
        "outputId": "3a8e9043-b676-4203-a936-266a3bea6d94"
      },
      "execution_count": 38,
      "outputs": [
        {
          "output_type": "stream",
          "name": "stdout",
          "text": [
            "Enter a string: Ananya\n",
            "Reversed: aynanA\n"
          ]
        }
      ]
    },
    {
      "cell_type": "code",
      "source": [
        "#15. Write a Python program to calculate the factorial of a number provided by the user using a while loop.\n",
        "n = int(input(\"Enter a number: \"))\n",
        "fact = 1\n",
        "while n > 0:\n",
        "    fact *= n\n",
        "    n -= 1\n",
        "print(\"Factorial:\", fact)\n"
      ],
      "metadata": {
        "colab": {
          "base_uri": "https://localhost:8080/"
        },
        "id": "TGuq8H4JwLj4",
        "outputId": "a7f3c78b-f7be-4a6c-e599-3c98b806fb1a"
      },
      "execution_count": 41,
      "outputs": [
        {
          "output_type": "stream",
          "name": "stdout",
          "text": [
            "Enter a number: 4\n",
            "Factorial: 24\n"
          ]
        }
      ]
    },
    {
      "cell_type": "code",
      "source": [],
      "metadata": {
        "id": "QNGhU6MXwYpf"
      },
      "execution_count": 39,
      "outputs": []
    }
  ]
}