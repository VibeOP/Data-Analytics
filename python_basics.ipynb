{
 "cells": [
  {
   "cell_type": "markdown",
   "id": "63b89ca7",
   "metadata": {},
   "source": [
    "1. Write a Python program to print \"Hello World!\""
   ]
  },
  {
   "cell_type": "code",
   "execution_count": null,
   "id": "82e2cb2c",
   "metadata": {},
   "outputs": [],
   "source": [
    "print(\"Hello World!\")"
   ]
  },
  {
   "cell_type": "markdown",
   "id": "625eab77",
   "metadata": {},
   "source": [
    "2. Write a Python program that displays your name and age."
   ]
  },
  {
   "cell_type": "code",
   "execution_count": null,
   "id": "8546fdb8",
   "metadata": {},
   "outputs": [],
   "source": [
    "name = \"Scary\"\n",
    "age = 18\n",
    "print(\"Name:\", name)\n",
    "print(\"Age:\", age)"
   ]
  },
  {
   "cell_type": "markdown",
   "id": "47e0fb30",
   "metadata": {},
   "source": [
    "3. Write code to print all the pre-defined keywords in Python using the `keyword` library."
   ]
  },
  {
   "cell_type": "code",
   "execution_count": null,
   "id": "1abd6ec8",
   "metadata": {},
   "outputs": [],
   "source": [
    "import keyword\n",
    "print(keyword.kwlist)"
   ]
  },
  {
   "cell_type": "markdown",
   "id": "2a81fd1e",
   "metadata": {},
   "source": [
    "4. Write a program that checks if a given word is a Python keyword."
   ]
  },
  {
   "cell_type": "code",
   "execution_count": null,
   "id": "5ce6ba16",
   "metadata": {},
   "outputs": [],
   "source": [
    "import keyword\n",
    "word = input(\"Enter a word: \")\n",
    "print(word, \"is a keyword?\" , keyword.iskeyword(word))"
   ]
  },
  {
   "cell_type": "markdown",
   "id": "a62ecea6",
   "metadata": {},
   "source": [
    "5. Create a list and a tuple in Python, and demonstrate how they behave differently when you try to change an element in each."
   ]
  },
  {
   "cell_type": "code",
   "execution_count": null,
   "id": "c2b4dce5",
   "metadata": {},
   "outputs": [],
   "source": [
    "my_list = [1, 2, 3]\n",
    "my_tuple = (1, 2, 3)\n",
    "my_list[0] = 10  # This works\n",
    "print(\"List:\", my_list)\n",
    "# my_tuple[0] = 10  # This will cause an error\n",
    "print(\"Tuple:\", my_tuple)"
   ]
  },
  {
   "cell_type": "markdown",
   "id": "4f2aace0",
   "metadata": {},
   "source": [
    "6. Write a function to demonstrate the behaviour of mutable and immutable arguments."
   ]
  },
  {
   "cell_type": "code",
   "execution_count": null,
   "id": "ae37baea",
   "metadata": {},
   "outputs": [],
   "source": [
    "def change_values(a, b):\n",
    "    a += 10\n",
    "    b[0] += 10\n",
    "\n",
    "x = 5\n",
    "y = [5]\n",
    "change_values(x, y)\n",
    "print(\"x:\", x)  # immutable\n",
    "print(\"y:\", y)  # mutable"
   ]
  },
  {
   "cell_type": "markdown",
   "id": "a7690994",
   "metadata": {},
   "source": [
    "7. Write a program that performs basic arithmetic operations on two user-input numbers."
   ]
  },
  {
   "cell_type": "code",
   "execution_count": null,
   "id": "e2647ba8",
   "metadata": {},
   "outputs": [],
   "source": [
    "a = int(input(\"Enter first number: \"))\n",
    "b = int(input(\"Enter second number: \"))\n",
    "print(\"Sum:\", a + b)\n",
    "print(\"Diff:\", a - b)\n",
    "print(\"Prod:\", a * b)\n",
    "print(\"Div:\", a / b)"
   ]
  },
  {
   "cell_type": "markdown",
   "id": "aea2406c",
   "metadata": {},
   "source": [
    "8. Write a program to demonstrate the use of logical operators."
   ]
  },
  {
   "cell_type": "code",
   "execution_count": null,
   "id": "a226a0d2",
   "metadata": {},
   "outputs": [],
   "source": [
    "x = 5\n",
    "y = 10\n",
    "print(x > 3 and y < 15)\n",
    "print(x < 3 or y > 5)\n",
    "print(not(x == y))"
   ]
  },
  {
   "cell_type": "markdown",
   "id": "3973227a",
   "metadata": {},
   "source": [
    "9. Write a Python program to convert user input from string to integer, float, and boolean types."
   ]
  },
  {
   "cell_type": "code",
   "execution_count": null,
   "id": "e5f57327",
   "metadata": {},
   "outputs": [],
   "source": [
    "val = input(\"Enter a number: \")\n",
    "print(\"As int:\", int(val))\n",
    "print(\"As float:\", float(val))\n",
    "print(\"As bool:\", bool(val))"
   ]
  },
  {
   "cell_type": "markdown",
   "id": "84f3aee9",
   "metadata": {},
   "source": [
    "10. Write code to demonstrate typecasting with list elements."
   ]
  },
  {
   "cell_type": "code",
   "execution_count": null,
   "id": "ae3fc6ea",
   "metadata": {},
   "outputs": [],
   "source": [
    "my_list = [\"1\", \"2\", \"3\"]\n",
    "int_list = [int(i) for i in my_list]\n",
    "print(\"Converted List:\", int_list)"
   ]
  },
  {
   "cell_type": "markdown",
   "id": "845f2dde",
   "metadata": {},
   "source": [
    "11. Write a program that checks if a number is positive, negative, or zero."
   ]
  },
  {
   "cell_type": "code",
   "execution_count": null,
   "id": "3d694843",
   "metadata": {},
   "outputs": [],
   "source": [
    "n = int(input(\"Enter a number: \"))\n",
    "if n > 0:\n",
    "    print(\"Positive\")\n",
    "elif n < 0:\n",
    "    print(\"Negative\")\n",
    "else:\n",
    "    print(\"Zero\")"
   ]
  },
  {
   "cell_type": "markdown",
   "id": "7ca3c681",
   "metadata": {},
   "source": [
    "12. Write a for loop to print numbers from 1 to 10."
   ]
  },
  {
   "cell_type": "code",
   "execution_count": null,
   "id": "ef009ffa",
   "metadata": {},
   "outputs": [],
   "source": [
    "for i in range(1, 11):\n",
    "    print(i)"
   ]
  },
  {
   "cell_type": "markdown",
   "id": "bfbd75cf",
   "metadata": {},
   "source": [
    "13. Write a Python program to find the sum of all even numbers between 1 and 50."
   ]
  },
  {
   "cell_type": "code",
   "execution_count": null,
   "id": "12b85141",
   "metadata": {},
   "outputs": [],
   "source": [
    "total = 0\n",
    "for i in range(1, 51):\n",
    "    if i % 2 == 0:\n",
    "        total += i\n",
    "print(\"Sum of even numbers:\", total)"
   ]
  },
  {
   "cell_type": "markdown",
   "id": "9401eca3",
   "metadata": {},
   "source": [
    "14. Write a program to reverse a string using a `while` loop."
   ]
  },
  {
   "cell_type": "code",
   "execution_count": null,
   "id": "acdf8eb6",
   "metadata": {},
   "outputs": [],
   "source": [
    "s = input(\"Enter a string: \")\n",
    "i = len(s) - 1\n",
    "rev = \"\"\n",
    "while i >= 0:\n",
    "    rev += s[i]\n",
    "    i -= 1\n",
    "print(\"Reversed:\", rev)"
   ]
  },
  {
   "cell_type": "markdown",
   "id": "869f37be",
   "metadata": {},
   "source": [
    "15. Write a Python program to calculate the factorial of a number provided by the user using a `while` loop."
   ]
  },
  {
   "cell_type": "code",
   "execution_count": null,
   "id": "8684e407",
   "metadata": {},
   "outputs": [],
   "source": [
    "n = int(input(\"Enter a number: \"))\n",
    "fact = 1\n",
    "while n > 0:\n",
    "    fact *= n\n",
    "    n -= 1\n",
    "print(\"Factorial:\", fact)"
   ]
  }
 ],
 "metadata": {},
 "nbformat": 4,
 "nbformat_minor": 5
}
